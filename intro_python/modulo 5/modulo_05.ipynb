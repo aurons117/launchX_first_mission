{
 "cells": [
  {
   "cell_type": "code",
   "execution_count": 1,
   "metadata": {},
   "outputs": [],
   "source": [
    "dist_earth_sun = 149.597870e6\n",
    "dist_jupyter_sun = 778.547200e6"
   ]
  },
  {
   "cell_type": "code",
   "execution_count": 2,
   "metadata": {},
   "outputs": [
    {
     "name": "stdout",
     "output_type": "stream",
     "text": [
      "La distancia entre Jupyter y la Tierra es de 390810874.13143003 millas\n"
     ]
    }
   ],
   "source": [
    "# Calcular la distancia entre planetas en millas\n",
    "dist_jupyter_earth = (dist_jupyter_sun - dist_earth_sun) * 0.621371\n",
    "print(f\"La distancia entre Jupyter y la Tierra es de {dist_jupyter_earth} millas\")"
   ]
  },
  {
   "cell_type": "code",
   "execution_count": 5,
   "metadata": {},
   "outputs": [
    {
     "name": "stdout",
     "output_type": "stream",
     "text": [
      "La distancia entre 200 y 500 es de 186.4113 millas\n"
     ]
    }
   ],
   "source": [
    "planeta_1 = input(\"Ingrese la distancia del primer planeta: \")\n",
    "planeta_2 = input(\"Ingrese la distancia del segundo planeta: \")\n",
    "\n",
    "dist_planeta1_planeta2 = abs(float(planeta_1) - float(planeta_2)) * 0.621371\n",
    "print(f\"La distancia entre {planeta_1} y {planeta_2} es de {dist_planeta1_planeta2} millas\")"
   ]
  },
  {
   "cell_type": "code",
   "execution_count": null,
   "metadata": {},
   "outputs": [],
   "source": []
  },
  {
   "cell_type": "code",
   "execution_count": null,
   "metadata": {},
   "outputs": [],
   "source": []
  },
  {
   "cell_type": "code",
   "execution_count": null,
   "metadata": {},
   "outputs": [],
   "source": []
  }
 ],
 "metadata": {
  "interpreter": {
   "hash": "1eaaee0f46c0425fce29c7a7b7d3ce1adf6efb1ea7bbd201ad0762c3aa69edf2"
  },
  "kernelspec": {
   "display_name": "Python 3.10.2 64-bit",
   "language": "python",
   "name": "python3"
  },
  "language_info": {
   "codemirror_mode": {
    "name": "ipython",
    "version": 3
   },
   "file_extension": ".py",
   "mimetype": "text/x-python",
   "name": "python",
   "nbconvert_exporter": "python",
   "pygments_lexer": "ipython3",
   "version": "3.10.2"
  },
  "orig_nbformat": 4
 },
 "nbformat": 4,
 "nbformat_minor": 2
}
