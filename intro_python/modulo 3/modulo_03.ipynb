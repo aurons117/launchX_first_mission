{
 "cells": [
  {
   "cell_type": "code",
   "execution_count": 3,
   "metadata": {},
   "outputs": [
    {
     "name": "stdout",
     "output_type": "stream",
     "text": [
      "Peligro! Velocidad alta\n"
     ]
    }
   ],
   "source": [
    "# Añadir el código necesario para crear una variable que guarde la velocidad del asteroide.\n",
    "# Escribe una expresión de prueba para calcular si necesita una advertencia.\n",
    "# Agregue las instrucciones que se ejecutarán si la expresión de prueba es true o false.\n",
    "\n",
    "velocidad = 49\n",
    "\n",
    "if velocidad > 25:\n",
    "    print(\"Peligro! Velocidad alta\")\n",
    "else:\n",
    "    print(\"Velocidad no peligrosa\")\n"
   ]
  },
  {
   "cell_type": "code",
   "execution_count": 4,
   "metadata": {},
   "outputs": [
    {
     "name": "stdout",
     "output_type": "stream",
     "text": [
      "Ateroide no visible\n"
     ]
    }
   ],
   "source": [
    "# Agrega el código para crear una variable para un asteroide que viaja a 19 km/s\n",
    "# Escribe varias expresiones de prueba para determinar si puedes ver el rayo de luz desde la tierra\n",
    "# Agrega las instrucciones que se ejecutarán si las expresiones de prueba son True o False\n",
    "\n",
    "velocidad_visible = 20\n",
    "velocidad_asteroide = 19\n",
    "\n",
    "if velocidad_asteroide >= velocidad_visible:\n",
    "    print(\"Asteroide visible\")\n",
    "else:\n",
    "    print(\"Ateroide no visible\")"
   ]
  },
  {
   "cell_type": "code",
   "execution_count": null,
   "metadata": {},
   "outputs": [],
   "source": [
    "# Agrega el código para crear nuevas variables para la velocidad y el tamaño del asteroide\n",
    "# Para probar el código, prueba con varias velocidades y tamaños\n",
    "# Escribe varias expresiones de prueba o combinaciones de expresiones de prueba para determinar qué mensaje se debe enviar a Tierra.\n",
    "\n",
    "no_damage_size = 25\n",
    "great_damage_size = 1000\n",
    "velocidad_visible = 25\n",
    "asteroide_tamano = 20\n",
    "asteroide_velocidad = 19\n",
    "\n",
    "if velocidad_asteroide > velocidad_visible and asteroide_tamano > no_damage_size:\n",
    "    print(\"Peligro! Asteroide de gran tamaño y gran velocidad\")\n",
    "elif velocidad_asteroide >= velocidad_visible:\n",
    "    print(\"Asteroide visible\")\n",
    "else:\n",
    "    print(\"Asteroide no visible\")\n",
    "\n",
    "\n"
   ]
  }
 ],
 "metadata": {
  "interpreter": {
   "hash": "1eaaee0f46c0425fce29c7a7b7d3ce1adf6efb1ea7bbd201ad0762c3aa69edf2"
  },
  "kernelspec": {
   "display_name": "Python 3.10.2 64-bit",
   "language": "python",
   "name": "python3"
  },
  "language_info": {
   "codemirror_mode": {
    "name": "ipython",
    "version": 3
   },
   "file_extension": ".py",
   "mimetype": "text/x-python",
   "name": "python",
   "nbconvert_exporter": "python",
   "pygments_lexer": "ipython3",
   "version": "3.10.2"
  },
  "orig_nbformat": 4
 },
 "nbformat": 4,
 "nbformat_minor": 2
}
