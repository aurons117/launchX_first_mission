{
 "cells": [
  {
   "cell_type": "markdown",
   "metadata": {},
   "source": [
    "# Ejercicio 1"
   ]
  },
  {
   "cell_type": "code",
   "execution_count": 4,
   "metadata": {},
   "outputs": [
    {
     "data": {
      "text/plain": [
       "20.0"
      ]
     },
     "execution_count": 4,
     "metadata": {},
     "output_type": "execute_result"
    }
   ],
   "source": [
    "# Funciones para leer 3 tanques de combustible y mostrar el promedio\n",
    "\n",
    "def promedio_3_tanques():\n",
    "    tanque1 = float(input(\"Ingrese el valor del tanque 1: \"))\n",
    "    tanque2 = float(input(\"Ingrese el valor del tanque 2: \"))\n",
    "    tanque3 = float(input(\"Ingrese el valor del tanque 3: \"))\n",
    "    promedio = promedio_3_numeros(tanque1, tanque2, tanque3)\n",
    "\n",
    "    return promedio\n",
    "\n",
    "def promedio_3_numeros(num1, num2, num3):\n",
    "    promedio = (num1 + num2 + num3) / 3\n",
    "    return promedio\n",
    "\n",
    "promedio_3_tanques()\n"
   ]
  },
  {
   "cell_type": "markdown",
   "metadata": {},
   "source": [
    "# Ejercicio 2"
   ]
  },
  {
   "cell_type": "code",
   "execution_count": 7,
   "metadata": {},
   "outputs": [
    {
     "name": "stdout",
     "output_type": "stream",
     "text": [
      "\n",
      "    Tiempo de vuelo: 30\n",
      "    Destino: Londres\n",
      "    Tanques: Tanque 1 y Tanque 2\n",
      "    \n"
     ]
    }
   ],
   "source": [
    "# Función para crear un informe de un cohete\n",
    "\n",
    "def informe_cohete(tiempo_prelanzamiento, tiempo_vuelo, destino, tanque_externo, tanque_interno):\n",
    "    print(f\"\"\"\n",
    "    Tiempo de vuelo: {tiempo_vuelo + tiempo_prelanzamiento}\n",
    "    Destino: {destino}\n",
    "    Tanques: {tanque_externo} y {tanque_interno}\n",
    "    \"\"\"\n",
    "    )\n",
    "\n",
    "informe_cohete(10, 20, \"Londres\", \"Tanque 1\", \"Tanque 2\")\n",
    "    "
   ]
  },
  {
   "cell_type": "code",
   "execution_count": 23,
   "metadata": {},
   "outputs": [
    {
     "name": "stdout",
     "output_type": "stream",
     "text": [
      "\n",
      "    Destino: Londres\n",
      "    Tiempos: 30\n",
      "    Tanques: ['Tanque 1', 'Tanque 2']\n",
      "    \n"
     ]
    }
   ],
   "source": [
    "# Función usando argumentos para crear un informe de un cohete\n",
    "\n",
    "def informe_cohete(destino, *tiempos, **tanques):\n",
    "    print(f\"\"\"\n",
    "    Destino: {destino}\n",
    "    Tiempos: {sum(tiempos)}\n",
    "    Tanques: {list(tanques.values())}\n",
    "    \"\"\")\n",
    "\n",
    "informe_cohete(\"Londres\", 10, 20, tanque_externo=\"Tanque 1\", tanque_interno=\"Tanque 2\")"
   ]
  },
  {
   "cell_type": "code",
   "execution_count": null,
   "metadata": {},
   "outputs": [],
   "source": []
  },
  {
   "cell_type": "code",
   "execution_count": null,
   "metadata": {},
   "outputs": [],
   "source": []
  }
 ],
 "metadata": {
  "interpreter": {
   "hash": "1eaaee0f46c0425fce29c7a7b7d3ce1adf6efb1ea7bbd201ad0762c3aa69edf2"
  },
  "kernelspec": {
   "display_name": "Python 3.10.2 64-bit",
   "language": "python",
   "name": "python3"
  },
  "language_info": {
   "name": "python",
   "version": "3.10.2"
  },
  "orig_nbformat": 4
 },
 "nbformat": 4,
 "nbformat_minor": 2
}
